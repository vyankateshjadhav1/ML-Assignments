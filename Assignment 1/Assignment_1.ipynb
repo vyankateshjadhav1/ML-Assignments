{
 "cells": [
  {
   "cell_type": "code",
   "execution_count": 1,
   "id": "b3bf58a9-343e-4e27-aa88-bd4814e4889b",
   "metadata": {},
   "outputs": [],
   "source": [
    "import pandas as pd\n",
    "import numpy as np\n",
    "import matplotlib.pyplot as plt"
   ]
  },
  {
   "cell_type": "code",
   "execution_count": 8,
   "id": "6b12a332-c835-434b-ae0c-fdda8f288eff",
   "metadata": {},
   "outputs": [],
   "source": [
    "dataset = pd.read_csv ('Price_Agriculture_commodities_Week (1).csv')"
   ]
  },
  {
   "cell_type": "code",
   "execution_count": 9,
   "id": "d9969ee9-6866-40a8-bd8f-7f28c9924dc6",
   "metadata": {},
   "outputs": [
    {
     "name": "stdout",
     "output_type": "stream",
     "text": [
      "            State  District    Market              Commodity      Variety  \\\n",
      "0         Gujarat    Amreli  Damnagar  Bhindi(Ladies Finger)       Bhindi   \n",
      "1         Gujarat    Amreli  Damnagar                Brinjal        Other   \n",
      "2         Gujarat    Amreli  Damnagar                Cabbage      Cabbage   \n",
      "3         Gujarat    Amreli  Damnagar            Cauliflower  Cauliflower   \n",
      "4         Gujarat    Amreli  Damnagar      Coriander(Leaves)    Coriander   \n",
      "...           ...       ...       ...                    ...          ...   \n",
      "23088  Uttrakhand  Haridwar   Roorkee                  Mango        Other   \n",
      "23089  Uttrakhand  Haridwar   Roorkee   Mousambi(Sweet Lime)        Other   \n",
      "23090  Uttrakhand  Haridwar   Roorkee         Pear(Marasebu)        Other   \n",
      "23091  Uttrakhand  Haridwar   Roorkee                 Potato        Other   \n",
      "23092  Uttrakhand  Haridwar   Roorkee                Pumpkin        Other   \n",
      "\n",
      "        Grade Arrival_Date  Min Price  Max Price  Modal Price  \n",
      "0         FAQ   27-07-2023     4100.0     4500.0       4350.0  \n",
      "1         FAQ   27-07-2023     2200.0     3000.0       2450.0  \n",
      "2         FAQ   27-07-2023     2350.0     3000.0       2700.0  \n",
      "3         FAQ   27-07-2023     7000.0     7500.0       7250.0  \n",
      "4         FAQ   27-07-2023     8400.0     9000.0       8850.0  \n",
      "...       ...          ...        ...        ...          ...  \n",
      "23088  Medium   02-08-2023      800.0     1200.0       1000.0  \n",
      "23089  Medium   02-08-2023     1500.0     2500.0       2000.0  \n",
      "23090  Medium   02-08-2023     2000.0     3000.0       2500.0  \n",
      "23091     FAQ   02-08-2023      900.0     1800.0       1500.0  \n",
      "23092     FAQ   02-08-2023      500.0      700.0        600.0  \n",
      "\n",
      "[23093 rows x 10 columns]\n"
     ]
    }
   ],
   "source": [
    "print (dataset)"
   ]
  },
  {
   "cell_type": "code",
   "execution_count": 10,
   "id": "7e10f0ef-22a7-4ec5-a908-bb0a4f9bf8ea",
   "metadata": {},
   "outputs": [
    {
     "data": {
      "text/plain": [
       "(23093, 10)"
      ]
     },
     "execution_count": 10,
     "metadata": {},
     "output_type": "execute_result"
    }
   ],
   "source": [
    "dataset.shape"
   ]
  },
  {
   "cell_type": "code",
   "execution_count": 11,
   "id": "ce8f8373-29e7-4d9f-8021-abcda13e9984",
   "metadata": {},
   "outputs": [
    {
     "data": {
      "text/plain": [
       "<bound method DataFrame.info of             State  District    Market              Commodity      Variety  \\\n",
       "0         Gujarat    Amreli  Damnagar  Bhindi(Ladies Finger)       Bhindi   \n",
       "1         Gujarat    Amreli  Damnagar                Brinjal        Other   \n",
       "2         Gujarat    Amreli  Damnagar                Cabbage      Cabbage   \n",
       "3         Gujarat    Amreli  Damnagar            Cauliflower  Cauliflower   \n",
       "4         Gujarat    Amreli  Damnagar      Coriander(Leaves)    Coriander   \n",
       "...           ...       ...       ...                    ...          ...   \n",
       "23088  Uttrakhand  Haridwar   Roorkee                  Mango        Other   \n",
       "23089  Uttrakhand  Haridwar   Roorkee   Mousambi(Sweet Lime)        Other   \n",
       "23090  Uttrakhand  Haridwar   Roorkee         Pear(Marasebu)        Other   \n",
       "23091  Uttrakhand  Haridwar   Roorkee                 Potato        Other   \n",
       "23092  Uttrakhand  Haridwar   Roorkee                Pumpkin        Other   \n",
       "\n",
       "        Grade Arrival_Date  Min Price  Max Price  Modal Price  \n",
       "0         FAQ   27-07-2023     4100.0     4500.0       4350.0  \n",
       "1         FAQ   27-07-2023     2200.0     3000.0       2450.0  \n",
       "2         FAQ   27-07-2023     2350.0     3000.0       2700.0  \n",
       "3         FAQ   27-07-2023     7000.0     7500.0       7250.0  \n",
       "4         FAQ   27-07-2023     8400.0     9000.0       8850.0  \n",
       "...       ...          ...        ...        ...          ...  \n",
       "23088  Medium   02-08-2023      800.0     1200.0       1000.0  \n",
       "23089  Medium   02-08-2023     1500.0     2500.0       2000.0  \n",
       "23090  Medium   02-08-2023     2000.0     3000.0       2500.0  \n",
       "23091     FAQ   02-08-2023      900.0     1800.0       1500.0  \n",
       "23092     FAQ   02-08-2023      500.0      700.0        600.0  \n",
       "\n",
       "[23093 rows x 10 columns]>"
      ]
     },
     "execution_count": 11,
     "metadata": {},
     "output_type": "execute_result"
    }
   ],
   "source": [
    "dataset.info"
   ]
  },
  {
   "cell_type": "code",
   "execution_count": 12,
   "id": "51601a61-da5d-41a1-9e71-9bab89ba9191",
   "metadata": {},
   "outputs": [
    {
     "name": "stdout",
     "output_type": "stream",
     "text": [
      "<class 'pandas.core.frame.DataFrame'>\n",
      "RangeIndex: 23093 entries, 0 to 23092\n",
      "Data columns (total 10 columns):\n",
      " #   Column        Non-Null Count  Dtype  \n",
      "---  ------        --------------  -----  \n",
      " 0   State         23093 non-null  object \n",
      " 1   District      23093 non-null  object \n",
      " 2   Market        23093 non-null  object \n",
      " 3   Commodity     23093 non-null  object \n",
      " 4   Variety       23093 non-null  object \n",
      " 5   Grade         23093 non-null  object \n",
      " 6   Arrival_Date  23093 non-null  object \n",
      " 7   Min Price     23093 non-null  float64\n",
      " 8   Max Price     23093 non-null  float64\n",
      " 9   Modal Price   23093 non-null  float64\n",
      "dtypes: float64(3), object(7)\n",
      "memory usage: 1.8+ MB\n"
     ]
    }
   ],
   "source": [
    "dataset.info()"
   ]
  },
  {
   "cell_type": "code",
   "execution_count": 13,
   "id": "6529d5ca-1f0c-4480-b6b0-707d1e49ad59",
   "metadata": {},
   "outputs": [
    {
     "data": {
      "text/html": [
       "<div>\n",
       "<style scoped>\n",
       "    .dataframe tbody tr th:only-of-type {\n",
       "        vertical-align: middle;\n",
       "    }\n",
       "\n",
       "    .dataframe tbody tr th {\n",
       "        vertical-align: top;\n",
       "    }\n",
       "\n",
       "    .dataframe thead th {\n",
       "        text-align: right;\n",
       "    }\n",
       "</style>\n",
       "<table border=\"1\" class=\"dataframe\">\n",
       "  <thead>\n",
       "    <tr style=\"text-align: right;\">\n",
       "      <th></th>\n",
       "      <th>Min Price</th>\n",
       "      <th>Max Price</th>\n",
       "      <th>Modal Price</th>\n",
       "    </tr>\n",
       "  </thead>\n",
       "  <tbody>\n",
       "    <tr>\n",
       "      <th>count</th>\n",
       "      <td>23093.000000</td>\n",
       "      <td>23093.000000</td>\n",
       "      <td>23093.000000</td>\n",
       "    </tr>\n",
       "    <tr>\n",
       "      <th>mean</th>\n",
       "      <td>4187.077045</td>\n",
       "      <td>4976.034260</td>\n",
       "      <td>4602.917742</td>\n",
       "    </tr>\n",
       "    <tr>\n",
       "      <th>std</th>\n",
       "      <td>5472.783385</td>\n",
       "      <td>6277.308057</td>\n",
       "      <td>5843.822711</td>\n",
       "    </tr>\n",
       "    <tr>\n",
       "      <th>min</th>\n",
       "      <td>0.000000</td>\n",
       "      <td>0.000000</td>\n",
       "      <td>0.830000</td>\n",
       "    </tr>\n",
       "    <tr>\n",
       "      <th>25%</th>\n",
       "      <td>1750.000000</td>\n",
       "      <td>2000.000000</td>\n",
       "      <td>1955.000000</td>\n",
       "    </tr>\n",
       "    <tr>\n",
       "      <th>50%</th>\n",
       "      <td>2725.000000</td>\n",
       "      <td>3400.000000</td>\n",
       "      <td>3000.000000</td>\n",
       "    </tr>\n",
       "    <tr>\n",
       "      <th>75%</th>\n",
       "      <td>5000.000000</td>\n",
       "      <td>6000.000000</td>\n",
       "      <td>5500.000000</td>\n",
       "    </tr>\n",
       "    <tr>\n",
       "      <th>max</th>\n",
       "      <td>223500.000000</td>\n",
       "      <td>227500.000000</td>\n",
       "      <td>225500.000000</td>\n",
       "    </tr>\n",
       "  </tbody>\n",
       "</table>\n",
       "</div>"
      ],
      "text/plain": [
       "           Min Price      Max Price    Modal Price\n",
       "count   23093.000000   23093.000000   23093.000000\n",
       "mean     4187.077045    4976.034260    4602.917742\n",
       "std      5472.783385    6277.308057    5843.822711\n",
       "min         0.000000       0.000000       0.830000\n",
       "25%      1750.000000    2000.000000    1955.000000\n",
       "50%      2725.000000    3400.000000    3000.000000\n",
       "75%      5000.000000    6000.000000    5500.000000\n",
       "max    223500.000000  227500.000000  225500.000000"
      ]
     },
     "execution_count": 13,
     "metadata": {},
     "output_type": "execute_result"
    }
   ],
   "source": [
    "dataset.describe()"
   ]
  },
  {
   "cell_type": "code",
   "execution_count": 14,
   "id": "71bc60f2-279f-46ad-8022-434cee56743a",
   "metadata": {},
   "outputs": [
    {
     "data": {
      "text/plain": [
       "State           0\n",
       "District        0\n",
       "Market          0\n",
       "Commodity       0\n",
       "Variety         0\n",
       "Grade           0\n",
       "Arrival_Date    0\n",
       "Min Price       0\n",
       "Max Price       0\n",
       "Modal Price     0\n",
       "dtype: int64"
      ]
     },
     "execution_count": 14,
     "metadata": {},
     "output_type": "execute_result"
    }
   ],
   "source": [
    "dataset.isnull().sum()"
   ]
  },
  {
   "cell_type": "code",
   "execution_count": 16,
   "id": "24e8f21d-389d-4e77-b179-404f0896dc18",
   "metadata": {},
   "outputs": [],
   "source": [
    "zero_count = dataset['Min Price'].eq(0).sum()"
   ]
  },
  {
   "cell_type": "code",
   "execution_count": 17,
   "id": "b4a511bc-a2eb-4a0d-8aea-7eb7f133c2e8",
   "metadata": {},
   "outputs": [
    {
     "data": {
      "text/plain": [
       "20"
      ]
     },
     "execution_count": 17,
     "metadata": {},
     "output_type": "execute_result"
    }
   ],
   "source": [
    "zero_count"
   ]
  },
  {
   "cell_type": "code",
   "execution_count": 18,
   "id": "0d9945f9-aebd-4281-84c9-bae76111403b",
   "metadata": {},
   "outputs": [
    {
     "name": "stdout",
     "output_type": "stream",
     "text": [
      "            State  Max Price\n",
      "0         Gujarat     4500.0\n",
      "1         Gujarat     3000.0\n",
      "2         Gujarat     3000.0\n",
      "3         Gujarat     7500.0\n",
      "4         Gujarat     9000.0\n",
      "...           ...        ...\n",
      "23088  Uttrakhand     1200.0\n",
      "23089  Uttrakhand     2500.0\n",
      "23090  Uttrakhand     3000.0\n",
      "23091  Uttrakhand     1800.0\n",
      "23092  Uttrakhand      700.0\n",
      "\n",
      "[23093 rows x 2 columns]\n"
     ]
    }
   ],
   "source": [
    "select_data=dataset[[\"State\",\"Max Price\"]]\n",
    "print (select_data)"
   ]
  },
  {
   "cell_type": "code",
   "execution_count": null,
   "id": "0f3f54bc-82d3-447b-9397-a1f32858ec6e",
   "metadata": {},
   "outputs": [],
   "source": []
  }
 ],
 "metadata": {
  "kernelspec": {
   "display_name": "Python 3 (ipykernel)",
   "language": "python",
   "name": "python3"
  },
  "language_info": {
   "codemirror_mode": {
    "name": "ipython",
    "version": 3
   },
   "file_extension": ".py",
   "mimetype": "text/x-python",
   "name": "python",
   "nbconvert_exporter": "python",
   "pygments_lexer": "ipython3",
   "version": "3.10.0"
  }
 },
 "nbformat": 4,
 "nbformat_minor": 5
}
